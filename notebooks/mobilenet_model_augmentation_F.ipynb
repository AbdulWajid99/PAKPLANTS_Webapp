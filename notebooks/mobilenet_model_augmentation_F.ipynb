{
 "cells": [
  {
   "cell_type": "code",
   "execution_count": 1,
   "id": "706a7ed0",
   "metadata": {},
   "outputs": [
    {
     "name": "stderr",
     "output_type": "stream",
     "text": [
      "Using TensorFlow backend.\n"
     ]
    },
    {
     "name": "stdout",
     "output_type": "stream",
     "text": [
      "1.15.5\n",
      "2.3.1\n"
     ]
    }
   ],
   "source": [
    "import numpy as np\n",
    "from re import sub\n",
    "import tensorflow as tf\n",
    "import keras\n",
    "from tensorflow.keras import metrics\n",
    "\n",
    "import matplotlib.colors as mcolors\n",
    "from sklearn.metrics import confusion_matrix\n",
    "import seaborn as sns\n",
    "\n",
    "from tensorflow.keras.models import Sequential\n",
    "from tensorflow.keras.layers import Dense,GlobalAveragePooling2D\n",
    "from tensorflow.keras.layers import BatchNormalization\n",
    "from tensorflow.keras.layers import Conv2D\n",
    "from tensorflow.keras.layers import MaxPooling2D\n",
    "from tensorflow.keras.layers import Activation, Flatten, Dropout, Dense\n",
    "\n",
    "from tensorflow.keras.models import Model\n",
    "from tensorflow.keras.optimizers import Adam\n",
    "from tensorflow.keras.preprocessing import image\n",
    "\n",
    "import matplotlib.pyplot as plt\n",
    "from tensorflow.keras import models\n",
    "from tensorflow.keras.preprocessing.image import ImageDataGenerator\n",
    "print(tf.__version__)\n",
    "print(keras.__version__)"
   ]
  },
  {
   "cell_type": "code",
   "execution_count": 2,
   "id": "93235a69",
   "metadata": {},
   "outputs": [],
   "source": [
    "BATCH_SIZE = 32\n",
    "IMG_SIZE = (224, 224)\n",
    "IMG_SHAPE = IMG_SIZE + (3,)"
   ]
  },
  {
   "cell_type": "code",
   "execution_count": 3,
   "id": "2a2fa5ef",
   "metadata": {},
   "outputs": [
    {
     "name": "stdout",
     "output_type": "stream",
     "text": [
      "Found 16132 images belonging to 26 classes.\n",
      "Found 2009 images belonging to 26 classes.\n"
     ]
    }
   ],
   "source": [
    "from tensorflow.keras.applications.mobilenet import preprocess_input\n",
    "\n",
    "train_datagen=ImageDataGenerator(preprocessing_function=preprocess_input)\n",
    "train_generator=train_datagen.flow_from_directory('output/train',\n",
    "                                                 target_size=IMG_SIZE,\n",
    "                                                 color_mode='rgb',\n",
    "                                                 batch_size=BATCH_SIZE,\n",
    "                                                 class_mode='categorical',\n",
    "                                                 shuffle=True)\n",
    "\n",
    "val_datagen=ImageDataGenerator(preprocessing_function=preprocess_input)\n",
    "val_generator=train_datagen.flow_from_directory('output/val',\n",
    "                                                     target_size=IMG_SIZE,\n",
    "                                                 color_mode='rgb',\n",
    "                                                 batch_size=BATCH_SIZE,\n",
    "                                                 class_mode='categorical',\n",
    "                                                 shuffle=True)"
   ]
  },
  {
   "cell_type": "code",
   "execution_count": 4,
   "id": "7229ffa4",
   "metadata": {},
   "outputs": [],
   "source": [
    "classes = train_generator.class_indices\n",
    "class_list = list(classes.keys())"
   ]
  },
  {
   "cell_type": "code",
   "execution_count": 5,
   "id": "21d36c49",
   "metadata": {},
   "outputs": [
    {
     "data": {
      "text/plain": [
       "['Alstonia_Scholaris',\n",
       " 'Apple',\n",
       " 'Arjun',\n",
       " 'Background_without_leaves',\n",
       " 'Bael',\n",
       " 'Basil',\n",
       " 'Blueberry',\n",
       " 'Cherry',\n",
       " 'Chinar',\n",
       " 'Corn',\n",
       " 'Gauva',\n",
       " 'Grape',\n",
       " 'Grapevine',\n",
       " 'Jamun',\n",
       " 'Jatropha',\n",
       " 'Lemon',\n",
       " 'Mango',\n",
       " 'Peach',\n",
       " 'Pepper',\n",
       " 'Pomegranate',\n",
       " 'Pongamia_Pinnata',\n",
       " 'Potato',\n",
       " 'Raspberry',\n",
       " 'Soybean',\n",
       " 'Strawberry',\n",
       " 'Tomato']"
      ]
     },
     "execution_count": 5,
     "metadata": {},
     "output_type": "execute_result"
    }
   ],
   "source": [
    "class_list"
   ]
  },
  {
   "cell_type": "code",
   "execution_count": 6,
   "id": "cb6f62b6",
   "metadata": {},
   "outputs": [
    {
     "name": "stdout",
     "output_type": "stream",
     "text": [
      "WARNING:tensorflow:From /home/ec2-user/anaconda3/envs/amazonei_tensorflow_p36/lib/python3.6/site-packages/tensorflow_core/python/ops/resource_variable_ops.py:1630: calling BaseResourceVariable.__init__ (from tensorflow.python.ops.resource_variable_ops) with constraint is deprecated and will be removed in a future version.\n",
      "Instructions for updating:\n",
      "If using Keras pass *_constraint arguments to layers.\n"
     ]
    }
   ],
   "source": [
    "base_model=tf.keras.applications.MobileNet(input_shape=IMG_SHAPE, weights='imagenet',include_top=False)\n",
    "\n",
    "x=base_model.output\n",
    "x=GlobalAveragePooling2D()(x)\n",
    "x=Dense(1024,activation='relu')(x)\n",
    "x=Dense(1024,activation='relu')(x)\n",
    "x=Dense(512,activation='relu')(x)\n",
    "preds=Dense(26,activation='softmax')(x)"
   ]
  },
  {
   "cell_type": "code",
   "execution_count": 7,
   "id": "8f507f6f",
   "metadata": {},
   "outputs": [],
   "source": [
    "model2=Model(inputs=base_model.input,outputs=preds)"
   ]
  },
  {
   "cell_type": "code",
   "execution_count": 8,
   "id": "efc20a44",
   "metadata": {},
   "outputs": [],
   "source": [
    "for layer in model2.layers[:20]:\n",
    "    layer.trainable=False\n",
    "for layer in model2.layers[20:]:\n",
    "    layer.trainable=True"
   ]
  },
  {
   "cell_type": "code",
   "execution_count": 9,
   "id": "e30f7434",
   "metadata": {},
   "outputs": [],
   "source": [
    "METRICS = [\n",
    "      metrics.TruePositives(name='tp'),\n",
    "      metrics.FalsePositives(name='fp'),\n",
    "      metrics.TrueNegatives(name='tn'),\n",
    "      metrics.FalseNegatives(name='fn'), \n",
    "      metrics.CategoricalAccuracy(name='accuracy'),\n",
    "      metrics.Precision(name='precision'),\n",
    "      metrics.Recall(name='recall'),\n",
    "      metrics.AUC(name='auc')\n",
    "]"
   ]
  },
  {
   "cell_type": "code",
   "execution_count": 10,
   "id": "4dccae8c",
   "metadata": {},
   "outputs": [],
   "source": [
    "model2.compile(optimizer='Adam',loss='categorical_crossentropy',metrics=METRICS)"
   ]
  },
  {
   "cell_type": "code",
   "execution_count": 12,
   "id": "3c76ceb8",
   "metadata": {},
   "outputs": [
    {
     "name": "stdout",
     "output_type": "stream",
     "text": [
      "Model: \"model\"\n",
      "_________________________________________________________________\n",
      "Layer (type)                 Output Shape              Param #   \n",
      "=================================================================\n",
      "input_1 (InputLayer)         [(None, 224, 224, 3)]     0         \n",
      "_________________________________________________________________\n",
      "conv1_pad (ZeroPadding2D)    (None, 225, 225, 3)       0         \n",
      "_________________________________________________________________\n",
      "conv1 (Conv2D)               (None, 112, 112, 32)      864       \n",
      "_________________________________________________________________\n",
      "conv1_bn (BatchNormalization (None, 112, 112, 32)      128       \n",
      "_________________________________________________________________\n",
      "conv1_relu (ReLU)            (None, 112, 112, 32)      0         \n",
      "_________________________________________________________________\n",
      "conv_dw_1 (DepthwiseConv2D)  (None, 112, 112, 32)      288       \n",
      "_________________________________________________________________\n",
      "conv_dw_1_bn (BatchNormaliza (None, 112, 112, 32)      128       \n",
      "_________________________________________________________________\n",
      "conv_dw_1_relu (ReLU)        (None, 112, 112, 32)      0         \n",
      "_________________________________________________________________\n",
      "conv_pw_1 (Conv2D)           (None, 112, 112, 64)      2048      \n",
      "_________________________________________________________________\n",
      "conv_pw_1_bn (BatchNormaliza (None, 112, 112, 64)      256       \n",
      "_________________________________________________________________\n",
      "conv_pw_1_relu (ReLU)        (None, 112, 112, 64)      0         \n",
      "_________________________________________________________________\n",
      "conv_pad_2 (ZeroPadding2D)   (None, 113, 113, 64)      0         \n",
      "_________________________________________________________________\n",
      "conv_dw_2 (DepthwiseConv2D)  (None, 56, 56, 64)        576       \n",
      "_________________________________________________________________\n",
      "conv_dw_2_bn (BatchNormaliza (None, 56, 56, 64)        256       \n",
      "_________________________________________________________________\n",
      "conv_dw_2_relu (ReLU)        (None, 56, 56, 64)        0         \n",
      "_________________________________________________________________\n",
      "conv_pw_2 (Conv2D)           (None, 56, 56, 128)       8192      \n",
      "_________________________________________________________________\n",
      "conv_pw_2_bn (BatchNormaliza (None, 56, 56, 128)       512       \n",
      "_________________________________________________________________\n",
      "conv_pw_2_relu (ReLU)        (None, 56, 56, 128)       0         \n",
      "_________________________________________________________________\n",
      "conv_dw_3 (DepthwiseConv2D)  (None, 56, 56, 128)       1152      \n",
      "_________________________________________________________________\n",
      "conv_dw_3_bn (BatchNormaliza (None, 56, 56, 128)       512       \n",
      "_________________________________________________________________\n",
      "conv_dw_3_relu (ReLU)        (None, 56, 56, 128)       0         \n",
      "_________________________________________________________________\n",
      "conv_pw_3 (Conv2D)           (None, 56, 56, 128)       16384     \n",
      "_________________________________________________________________\n",
      "conv_pw_3_bn (BatchNormaliza (None, 56, 56, 128)       512       \n",
      "_________________________________________________________________\n",
      "conv_pw_3_relu (ReLU)        (None, 56, 56, 128)       0         \n",
      "_________________________________________________________________\n",
      "conv_pad_4 (ZeroPadding2D)   (None, 57, 57, 128)       0         \n",
      "_________________________________________________________________\n",
      "conv_dw_4 (DepthwiseConv2D)  (None, 28, 28, 128)       1152      \n",
      "_________________________________________________________________\n",
      "conv_dw_4_bn (BatchNormaliza (None, 28, 28, 128)       512       \n",
      "_________________________________________________________________\n",
      "conv_dw_4_relu (ReLU)        (None, 28, 28, 128)       0         \n",
      "_________________________________________________________________\n",
      "conv_pw_4 (Conv2D)           (None, 28, 28, 256)       32768     \n",
      "_________________________________________________________________\n",
      "conv_pw_4_bn (BatchNormaliza (None, 28, 28, 256)       1024      \n",
      "_________________________________________________________________\n",
      "conv_pw_4_relu (ReLU)        (None, 28, 28, 256)       0         \n",
      "_________________________________________________________________\n",
      "conv_dw_5 (DepthwiseConv2D)  (None, 28, 28, 256)       2304      \n",
      "_________________________________________________________________\n",
      "conv_dw_5_bn (BatchNormaliza (None, 28, 28, 256)       1024      \n",
      "_________________________________________________________________\n",
      "conv_dw_5_relu (ReLU)        (None, 28, 28, 256)       0         \n",
      "_________________________________________________________________\n",
      "conv_pw_5 (Conv2D)           (None, 28, 28, 256)       65536     \n",
      "_________________________________________________________________\n",
      "conv_pw_5_bn (BatchNormaliza (None, 28, 28, 256)       1024      \n",
      "_________________________________________________________________\n",
      "conv_pw_5_relu (ReLU)        (None, 28, 28, 256)       0         \n",
      "_________________________________________________________________\n",
      "conv_pad_6 (ZeroPadding2D)   (None, 29, 29, 256)       0         \n",
      "_________________________________________________________________\n",
      "conv_dw_6 (DepthwiseConv2D)  (None, 14, 14, 256)       2304      \n",
      "_________________________________________________________________\n",
      "conv_dw_6_bn (BatchNormaliza (None, 14, 14, 256)       1024      \n",
      "_________________________________________________________________\n",
      "conv_dw_6_relu (ReLU)        (None, 14, 14, 256)       0         \n",
      "_________________________________________________________________\n",
      "conv_pw_6 (Conv2D)           (None, 14, 14, 512)       131072    \n",
      "_________________________________________________________________\n",
      "conv_pw_6_bn (BatchNormaliza (None, 14, 14, 512)       2048      \n",
      "_________________________________________________________________\n",
      "conv_pw_6_relu (ReLU)        (None, 14, 14, 512)       0         \n",
      "_________________________________________________________________\n",
      "conv_dw_7 (DepthwiseConv2D)  (None, 14, 14, 512)       4608      \n",
      "_________________________________________________________________\n",
      "conv_dw_7_bn (BatchNormaliza (None, 14, 14, 512)       2048      \n",
      "_________________________________________________________________\n",
      "conv_dw_7_relu (ReLU)        (None, 14, 14, 512)       0         \n",
      "_________________________________________________________________\n",
      "conv_pw_7 (Conv2D)           (None, 14, 14, 512)       262144    \n",
      "_________________________________________________________________\n",
      "conv_pw_7_bn (BatchNormaliza (None, 14, 14, 512)       2048      \n",
      "_________________________________________________________________\n",
      "conv_pw_7_relu (ReLU)        (None, 14, 14, 512)       0         \n",
      "_________________________________________________________________\n",
      "conv_dw_8 (DepthwiseConv2D)  (None, 14, 14, 512)       4608      \n",
      "_________________________________________________________________\n",
      "conv_dw_8_bn (BatchNormaliza (None, 14, 14, 512)       2048      \n",
      "_________________________________________________________________\n",
      "conv_dw_8_relu (ReLU)        (None, 14, 14, 512)       0         \n",
      "_________________________________________________________________\n",
      "conv_pw_8 (Conv2D)           (None, 14, 14, 512)       262144    \n",
      "_________________________________________________________________\n",
      "conv_pw_8_bn (BatchNormaliza (None, 14, 14, 512)       2048      \n",
      "_________________________________________________________________\n",
      "conv_pw_8_relu (ReLU)        (None, 14, 14, 512)       0         \n",
      "_________________________________________________________________\n",
      "conv_dw_9 (DepthwiseConv2D)  (None, 14, 14, 512)       4608      \n",
      "_________________________________________________________________\n",
      "conv_dw_9_bn (BatchNormaliza (None, 14, 14, 512)       2048      \n",
      "_________________________________________________________________\n",
      "conv_dw_9_relu (ReLU)        (None, 14, 14, 512)       0         \n",
      "_________________________________________________________________\n",
      "conv_pw_9 (Conv2D)           (None, 14, 14, 512)       262144    \n",
      "_________________________________________________________________\n",
      "conv_pw_9_bn (BatchNormaliza (None, 14, 14, 512)       2048      \n",
      "_________________________________________________________________\n",
      "conv_pw_9_relu (ReLU)        (None, 14, 14, 512)       0         \n",
      "_________________________________________________________________\n",
      "conv_dw_10 (DepthwiseConv2D) (None, 14, 14, 512)       4608      \n",
      "_________________________________________________________________\n",
      "conv_dw_10_bn (BatchNormaliz (None, 14, 14, 512)       2048      \n",
      "_________________________________________________________________\n",
      "conv_dw_10_relu (ReLU)       (None, 14, 14, 512)       0         \n",
      "_________________________________________________________________\n",
      "conv_pw_10 (Conv2D)          (None, 14, 14, 512)       262144    \n",
      "_________________________________________________________________\n",
      "conv_pw_10_bn (BatchNormaliz (None, 14, 14, 512)       2048      \n",
      "_________________________________________________________________\n",
      "conv_pw_10_relu (ReLU)       (None, 14, 14, 512)       0         \n",
      "_________________________________________________________________\n",
      "conv_dw_11 (DepthwiseConv2D) (None, 14, 14, 512)       4608      \n",
      "_________________________________________________________________\n",
      "conv_dw_11_bn (BatchNormaliz (None, 14, 14, 512)       2048      \n",
      "_________________________________________________________________\n",
      "conv_dw_11_relu (ReLU)       (None, 14, 14, 512)       0         \n",
      "_________________________________________________________________\n",
      "conv_pw_11 (Conv2D)          (None, 14, 14, 512)       262144    \n",
      "_________________________________________________________________\n",
      "conv_pw_11_bn (BatchNormaliz (None, 14, 14, 512)       2048      \n",
      "_________________________________________________________________\n",
      "conv_pw_11_relu (ReLU)       (None, 14, 14, 512)       0         \n",
      "_________________________________________________________________\n",
      "conv_pad_12 (ZeroPadding2D)  (None, 15, 15, 512)       0         \n",
      "_________________________________________________________________\n",
      "conv_dw_12 (DepthwiseConv2D) (None, 7, 7, 512)         4608      \n",
      "_________________________________________________________________\n",
      "conv_dw_12_bn (BatchNormaliz (None, 7, 7, 512)         2048      \n",
      "_________________________________________________________________\n",
      "conv_dw_12_relu (ReLU)       (None, 7, 7, 512)         0         \n",
      "_________________________________________________________________\n",
      "conv_pw_12 (Conv2D)          (None, 7, 7, 1024)        524288    \n",
      "_________________________________________________________________\n",
      "conv_pw_12_bn (BatchNormaliz (None, 7, 7, 1024)        4096      \n",
      "_________________________________________________________________\n",
      "conv_pw_12_relu (ReLU)       (None, 7, 7, 1024)        0         \n",
      "_________________________________________________________________\n",
      "conv_dw_13 (DepthwiseConv2D) (None, 7, 7, 1024)        9216      \n",
      "_________________________________________________________________\n",
      "conv_dw_13_bn (BatchNormaliz (None, 7, 7, 1024)        4096      \n",
      "_________________________________________________________________\n",
      "conv_dw_13_relu (ReLU)       (None, 7, 7, 1024)        0         \n",
      "_________________________________________________________________\n",
      "conv_pw_13 (Conv2D)          (None, 7, 7, 1024)        1048576   \n",
      "_________________________________________________________________\n",
      "conv_pw_13_bn (BatchNormaliz (None, 7, 7, 1024)        4096      \n",
      "_________________________________________________________________\n",
      "conv_pw_13_relu (ReLU)       (None, 7, 7, 1024)        0         \n",
      "_________________________________________________________________\n",
      "global_average_pooling2d (Gl (None, 1024)              0         \n",
      "_________________________________________________________________\n",
      "dense (Dense)                (None, 1024)              1049600   \n",
      "_________________________________________________________________\n",
      "dense_1 (Dense)              (None, 1024)              1049600   \n",
      "_________________________________________________________________\n",
      "dense_2 (Dense)              (None, 512)               524800    \n",
      "_________________________________________________________________\n",
      "dense_3 (Dense)              (None, 26)                13338     \n",
      "=================================================================\n",
      "Total params: 5,866,202\n",
      "Trainable params: 5,830,298\n",
      "Non-trainable params: 35,904\n",
      "_________________________________________________________________\n"
     ]
    }
   ],
   "source": [
    "model2.summary()"
   ]
  },
  {
   "cell_type": "code",
   "execution_count": 13,
   "id": "c7f253cf",
   "metadata": {},
   "outputs": [
    {
     "name": "stdout",
     "output_type": "stream",
     "text": [
      "Epoch 1/2\n",
      "503/504 [============================>.] - ETA: 3s - loss: 0.4319 - tp: 13698.0000 - fp: 1084.0000 - tn: 400616.0000 - fn: 2370.0000 - accuracy: 0.8839 - precision: 0.9267 - recall: 0.8525 - auc: 0.9901Epoch 1/2\n",
      "504/504 [==============================] - 1874s 4s/step - loss: 0.4313 - tp: 13729.0000 - fp: 1085.0000 - tn: 401415.0000 - fn: 2371.0000 - accuracy: 0.8841 - precision: 0.9268 - recall: 0.8527 - auc: 0.9901 - val_loss: 1.4946 - val_tp: 1279.0000 - val_fp: 511.0000 - val_tn: 49714.0000 - val_fn: 730.0000 - val_accuracy: 0.6680 - val_precision: 0.7145 - val_recall: 0.6366 - val_auc: 0.9328\n",
      "Epoch 2/2\n",
      "503/504 [============================>.] - ETA: 3s - loss: 0.2043 - tp: 15067.0000 - fp: 549.0000 - tn: 401151.0000 - fn: 1001.0000 - accuracy: 0.9513 - precision: 0.9648 - recall: 0.9377 - auc: 0.9952Epoch 1/2\n",
      "504/504 [==============================] - 1796s 4s/step - loss: 0.2040 - tp: 15098.0000 - fp: 549.0000 - tn: 401951.0000 - fn: 1002.0000 - accuracy: 0.9513 - precision: 0.9649 - recall: 0.9378 - auc: 0.9952 - val_loss: 0.8556 - val_tp: 1492.0000 - val_fp: 247.0000 - val_tn: 49978.0000 - val_fn: 517.0000 - val_accuracy: 0.7899 - val_precision: 0.8580 - val_recall: 0.7427 - val_auc: 0.9724\n"
     ]
    }
   ],
   "source": [
    "step_size_train=train_generator.n//train_generator.batch_size\n",
    "model2_history=model2.fit(train_generator,\n",
    "                    validation_data =val_generator,\n",
    "                   steps_per_epoch=step_size_train,\n",
    "                   epochs=2)"
   ]
  },
  {
   "cell_type": "code",
   "execution_count": 14,
   "id": "9faf207a",
   "metadata": {},
   "outputs": [
    {
     "data": {
      "image/png": "[encoded data removed]",
      "text/plain": [
       "<Figure size 432x288 with 1 Axes>"
      ]
     },
     "metadata": {
      "needs_background": "light"
     },
     "output_type": "display_data"
    }
   ],
   "source": [
    "acc = model2_history.history['accuracy']\n",
    "val_acc = model2_history.history['val_accuracy']\n",
    "\n",
    "plt.plot(acc, label='Training Accuracy')\n",
    "plt.plot(val_acc, label='Validation Accuracy')\n",
    "plt.legend(loc='lower right')\n",
    "plt.ylabel('Accuracy')\n",
    "plt.xlim([0,9])\n",
    "plt.ylim([min(plt.ylim()),1])\n",
    "plt.title('Training and Validation Accuracy')\n",
    "plt.xlabel('Epoch')\n",
    "plt.show()\n"
   ]
  },
  {
   "cell_type": "code",
   "execution_count": 15,
   "id": "eaf30687",
   "metadata": {},
   "outputs": [
    {
     "data": {
      "image/png": "[encoded data removed]",
      "text/plain": [
       "<Figure size 432x288 with 1 Axes>"
      ]
     },
     "metadata": {
      "needs_background": "light"
     },
     "output_type": "display_data"
    }
   ],
   "source": [
    "loss = model2_history.history['loss']\n",
    "val_loss = model2_history.history['val_loss']\n",
    "\n",
    "plt.plot(loss, label='Training Loss')\n",
    "plt.plot(val_loss, label='Validation Loss')\n",
    "plt.legend(loc='upper right')\n",
    "plt.ylabel('Loss')\n",
    "plt.xlim([0,9])\n",
    "plt.ylim([0,max(plt.ylim())])\n",
    "plt.title('Training and Validation Loss')\n",
    "plt.xlabel('Epoch')\n",
    "plt.show()"
   ]
  },
  {
   "cell_type": "code",
   "execution_count": 16,
   "id": "e1ca497a",
   "metadata": {},
   "outputs": [
    {
     "data": {
      "image/png": "[encoded data removed]",
      "text/plain": [
       "<Figure size 432x288 with 1 Axes>"
      ]
     },
     "metadata": {
      "needs_background": "light"
     },
     "output_type": "display_data"
    }
   ],
   "source": [
    "loss = model2_history.history['loss']\n",
    "val_loss = model2_history.history['val_loss']\n",
    "\n",
    "plt.plot(loss, label='Training Loss')\n",
    "plt.plot(val_loss, label='Validation Loss')\n",
    "plt.legend(loc='upper right')\n",
    "plt.ylabel('Loss')\n",
    "plt.xlim([0,9])\n",
    "plt.ylim([0,max(plt.ylim())])\n",
    "plt.title('Training and Validation Loss')\n",
    "plt.xlabel('Epoch')\n",
    "plt.show()"
   ]
  },
  {
   "cell_type": "code",
   "execution_count": 17,
   "id": "81a97136",
   "metadata": {},
   "outputs": [
    {
     "data": {
      "image/png": "[encoded data removed]",
      "text/plain": [
       "<Figure size 432x288 with 1 Axes>"
      ]
     },
     "metadata": {
      "needs_background": "light"
     },
     "output_type": "display_data"
    }
   ],
   "source": [
    "rec = model2_history.history['recall']\n",
    "val_rec = model2_history.history['val_recall']\n",
    "\n",
    "plt.plot(rec, label='Training Recall')\n",
    "plt.plot(val_rec, label='Validation Recall')\n",
    "plt.legend(loc='lower right')\n",
    "plt.ylabel(\"Recall\")\n",
    "plt.xlim([0,9])\n",
    "plt.ylim([min(plt.ylim()),1])\n",
    "plt.title('Training and Validation Recall')\n",
    "plt.xlabel('Epoch')\n",
    "plt.show()"
   ]
  },
  {
   "cell_type": "code",
   "execution_count": 18,
   "id": "bb61c792",
   "metadata": {},
   "outputs": [
    {
     "data": {
      "image/png": "[encoded data removed]",
      "text/plain": [
       "<Figure size 432x288 with 1 Axes>"
      ]
     },
     "metadata": {
      "needs_background": "light"
     },
     "output_type": "display_data"
    }
   ],
   "source": [
    "auc = model2_history.history['auc']\n",
    "val_auc = model2_history.history['val_auc']\n",
    "\n",
    "plt.plot(auc, label='Training AUC')\n",
    "plt.plot(val_auc, label='Validation AUC')\n",
    "plt.legend(loc='lower right')\n",
    "plt.ylabel(\"AUC\")\n",
    "plt.xlim([0,9])\n",
    "plt.ylim([min(plt.ylim()),1])\n",
    "plt.title('Training and Validation AUC')\n",
    "plt.xlabel('Epoch')\n",
    "plt.show()"
   ]
  },
  {
   "cell_type": "code",
   "execution_count": 19,
   "id": "2e13c236",
   "metadata": {},
   "outputs": [],
   "source": [
    "model2.save(\"model_.h5\")"
   ]
  },
  {
   "cell_type": "code",
   "execution_count": null,
   "id": "e23c5424",
   "metadata": {},
   "outputs": [],
   "source": []
  },
  {
   "cell_type": "code",
   "execution_count": 22,
   "id": "8692e32f",
   "metadata": {},
   "outputs": [
    {
     "data": {
      "text/plain": [
       "array([3])"
      ]
     },
     "execution_count": 22,
     "metadata": {},
     "output_type": "execute_result"
    }
   ],
   "source": [
    "img=image.load_img('test/Basil.JPG',target_size=(224,224))\n",
    "x=image.img_to_array(img)\n",
    "x=x/255\n",
    "\n",
    "import numpy as np\n",
    "\n",
    "x=np.expand_dims(x,axis=0)\n",
    "\n",
    "\n",
    "a=np.argmax(model2.predict(x), axis=1)\n",
    "a"
   ]
  },
  {
   "cell_type": "code",
   "execution_count": 24,
   "id": "bbd97749",
   "metadata": {},
   "outputs": [
    {
     "data": {
      "text/plain": [
       "'Background_without_leaves'"
      ]
     },
     "execution_count": 24,
     "metadata": {},
     "output_type": "execute_result"
    }
   ],
   "source": [
    "class_list[3]"
   ]
  },
  {
   "cell_type": "code",
   "execution_count": 23,
   "id": "c0d0f927",
   "metadata": {},
   "outputs": [
    {
     "ename": "NameError",
     "evalue": "name 'app' is not defined",
     "output_type": "error",
     "traceback": [
      "\u001b[0;31m---------------------------------------------------------------------------\u001b[0m",
      "\u001b[0;31mNameError\u001b[0m                                 Traceback (most recent call last)",
      "\u001b[0;32m<ipython-input-23-8569ab23a66a>\u001b[0m in \u001b[0;36m<module>\u001b[0;34m\u001b[0m\n\u001b[0;32m----> 1\u001b[0;31m \u001b[0;34m@\u001b[0m\u001b[0mapp\u001b[0m\u001b[0;34m.\u001b[0m\u001b[0mpost\u001b[0m\u001b[0;34m(\u001b[0m\u001b[0;34m\"/plant\"\u001b[0m\u001b[0;34m)\u001b[0m\u001b[0;34m\u001b[0m\u001b[0;34m\u001b[0m\u001b[0m\n\u001b[0m\u001b[1;32m      2\u001b[0m \u001b[0;32mdef\u001b[0m \u001b[0mpredict\u001b[0m\u001b[0;34m(\u001b[0m\u001b[0mfile\u001b[0m\u001b[0;34m:\u001b[0m \u001b[0mUploadFile\u001b[0m \u001b[0;34m=\u001b[0m\u001b[0mFile\u001b[0m\u001b[0;34m(\u001b[0m\u001b[0;34m...\u001b[0m\u001b[0;34m)\u001b[0m\u001b[0;34m)\u001b[0m\u001b[0;34m:\u001b[0m\u001b[0;34m\u001b[0m\u001b[0;34m\u001b[0m\u001b[0m\n\u001b[1;32m      3\u001b[0m     \u001b[0;32mwith\u001b[0m \u001b[0mopen\u001b[0m\u001b[0;34m(\u001b[0m\u001b[0mfile\u001b[0m\u001b[0;34m.\u001b[0m\u001b[0mfilename\u001b[0m\u001b[0;34m,\u001b[0m \u001b[0;34m\"wb\"\u001b[0m\u001b[0;34m)\u001b[0m \u001b[0;32mas\u001b[0m \u001b[0mbuffer\u001b[0m\u001b[0;34m:\u001b[0m\u001b[0;34m\u001b[0m\u001b[0;34m\u001b[0m\u001b[0m\n\u001b[1;32m      4\u001b[0m         \u001b[0mshutil\u001b[0m\u001b[0;34m.\u001b[0m\u001b[0mcopyfileobj\u001b[0m\u001b[0;34m(\u001b[0m\u001b[0mfile\u001b[0m\u001b[0;34m.\u001b[0m\u001b[0mfile\u001b[0m\u001b[0;34m,\u001b[0m \u001b[0mbuffer\u001b[0m\u001b[0;34m)\u001b[0m\u001b[0;34m\u001b[0m\u001b[0;34m\u001b[0m\u001b[0m\n\u001b[1;32m      5\u001b[0m     \u001b[0mPlant_image\u001b[0m \u001b[0;34m=\u001b[0m \u001b[0mImage\u001b[0m\u001b[0;34m.\u001b[0m\u001b[0mopen\u001b[0m\u001b[0;34m(\u001b[0m\u001b[0mfile\u001b[0m\u001b[0;34m.\u001b[0m\u001b[0mfilename\u001b[0m\u001b[0;34m)\u001b[0m\u001b[0;34m\u001b[0m\u001b[0;34m\u001b[0m\u001b[0m\n",
      "\u001b[0;31mNameError\u001b[0m: name 'app' is not defined"
     ]
    }
   ],
   "source": [
    "@app.post(\"/plant\")\n",
    "def predict(file: UploadFile =File(...)):\n",
    "    with open(file.filename, \"wb\") as buffer:\n",
    "        shutil.copyfileobj(file.file, buffer)\n",
    "    Plant_image = Image.open(file.filename)\n",
    "    # resize image\n",
    "\n",
    "    # convert image to numpy array\n",
    "\n",
    "\n",
    "    # reshape image\n",
    "    image_np = np.expand_dims(img_array, axis=0)\n",
    "    # predict image\n",
    "    prediction =model.predict(image_np)\n",
    "    prediction=np.argmax(prediction, axis=1)\n",
    "    # return prediction\n",
    "    prediction=index_to_label[prediction[0]]\n",
    "    return{prediction}"
   ]
  },
  {
   "cell_type": "code",
   "execution_count": null,
   "id": "1da38347",
   "metadata": {},
   "outputs": [],
   "source": []
  },
  {
   "cell_type": "code",
   "execution_count": 1,
   "id": "869f1c2e",
   "metadata": {},
   "outputs": [],
   "source": [
    "# Import OS module\n",
    "import os\n",
    "\n",
    "# Imports\n",
    "import numpy as np\n",
    "import pandas as pd\n",
    "\n",
    "# Visualization\n",
    "import matplotlib.pyplot as plt\n",
    "\n",
    "# Tensorflow\n",
    "import tensorflow as tf\n",
    "from tensorflow import keras\n",
    "from tensorflow.keras import callbacks, layers, Model\n",
    "from tensorflow.keras.preprocessing.image import ImageDataGenerator\n",
    "\n",
    "# Notebook magic\n",
    "%matplotlib inline"
   ]
  },
  {
   "cell_type": "code",
   "execution_count": 2,
   "id": "3e24ad8d",
   "metadata": {},
   "outputs": [],
   "source": [
    "# Configure variables for Transfer learning\n",
    "image_size = 224\n",
    "target_size = (image_size, image_size)\n",
    "input_shape = (image_size, image_size, 3)\n",
    "grid_shape = (1, image_size, image_size, 3)\n",
    "\n",
    "batch_size = 32"
   ]
  },
  {
   "cell_type": "code",
   "execution_count": 3,
   "id": "18fa4204",
   "metadata": {},
   "outputs": [],
   "source": [
    "dataset_root = \"Pakplantsdata\"\n",
    "\n",
    "train_dir = os.path.join(dataset_root, \"output/train\")\n",
    "test_dir = os.path.join(dataset_root, \"output/val\")"
   ]
  },
  {
   "cell_type": "code",
   "execution_count": 5,
   "id": "81bfbcca",
   "metadata": {},
   "outputs": [
    {
     "name": "stdout",
     "output_type": "stream",
     "text": [
      "Found 16132 images belonging to 26 classes.\n"
     ]
    }
   ],
   "source": [
    "# Define augmentations for train dataset and read the images\n",
    "train_aug = ImageDataGenerator(\n",
    "    # Rescale\n",
    "    rescale=1/255.0,\n",
    "    # Filling for W/H shift\n",
    "    fill_mode=\"nearest\",\n",
    "    # Width and Height shift\n",
    "    width_shift_range=0.2,\n",
    "    height_shift_range=0.2,\n",
    "    # Random zooms\n",
    "    zoom_range=0.2,\n",
    "    # Random Shearing aug\n",
    "    shear_range=0.2,\n",
    ")\n",
    "\n",
    "# Read data from directory\n",
    "train_data = train_aug.flow_from_directory(\n",
    "    'output/train',\n",
    "    target_size=(image_size, image_size),\n",
    "    batch_size=batch_size,\n",
    "    class_mode=\"categorical\"\n",
    ")"
   ]
  },
  {
   "cell_type": "code",
   "execution_count": 7,
   "id": "c7559a00",
   "metadata": {},
   "outputs": [
    {
     "data": {
      "text/plain": [
       "['Alstonia_Scholaris',\n",
       " 'Apple',\n",
       " 'Arjun',\n",
       " 'Background_without_leaves',\n",
       " 'Bael',\n",
       " 'Basil',\n",
       " 'Blueberry',\n",
       " 'Cherry',\n",
       " 'Chinar',\n",
       " 'Corn',\n",
       " 'Gauva',\n",
       " 'Grape',\n",
       " 'Grapevine',\n",
       " 'Jamun',\n",
       " 'Jatropha',\n",
       " 'Lemon',\n",
       " 'Mango',\n",
       " 'Peach',\n",
       " 'Pepper',\n",
       " 'Pomegranate',\n",
       " 'Pongamia_Pinnata',\n",
       " 'Potato',\n",
       " 'Raspberry',\n",
       " 'Soybean',\n",
       " 'Strawberry',\n",
       " 'Tomato']"
      ]
     },
     "execution_count": 7,
     "metadata": {},
     "output_type": "execute_result"
    }
   ],
   "source": [
    "# Get the list of categories in training data\n",
    "cats = list(train_data.class_indices.keys())\n",
    "cats"
   ]
  },
  {
   "cell_type": "code",
   "execution_count": 8,
   "id": "1667b1c6",
   "metadata": {},
   "outputs": [
    {
     "name": "stdout",
     "output_type": "stream",
     "text": [
      "Found 2009 images belonging to 26 classes.\n"
     ]
    }
   ],
   "source": [
    "# Augmentations for test data\n",
    "test_aug = ImageDataGenerator(\n",
    "    # Rescale\n",
    "    rescale=1/255.0\n",
    ")\n",
    "\n",
    "# Read data from directory\n",
    "test_data = test_aug.flow_from_directory(\n",
    "    'output/val',\n",
    "    target_size=(image_size, image_size),\n",
    "    batch_size=batch_size,\n",
    "    class_mode=\"categorical\"\n",
    ")"
   ]
  },
  {
   "cell_type": "code",
   "execution_count": 9,
   "id": "b5682b1c",
   "metadata": {},
   "outputs": [
    {
     "name": "stdout",
     "output_type": "stream",
     "text": [
      "WARNING:tensorflow:From /home/ec2-user/anaconda3/envs/amazonei_tensorflow_p36/lib/python3.6/site-packages/tensorflow_core/python/ops/resource_variable_ops.py:1630: calling BaseResourceVariable.__init__ (from tensorflow.python.ops.resource_variable_ops) with constraint is deprecated and will be removed in a future version.\n",
      "Instructions for updating:\n",
      "If using Keras pass *_constraint arguments to layers.\n",
      "Downloading data from https://github.com/JonathanCMitchell/mobilenet_v2_keras/releases/download/v1.1/mobilenet_v2_weights_tf_dim_ordering_tf_kernels_1.0_224_no_top.h5\n",
      "9412608/9406464 [==============================] - 1s 0us/step\n"
     ]
    }
   ],
   "source": [
    "# Load the base model\n",
    "mbnet_v2 = keras.applications.MobileNetV2(\n",
    "    weights=\"imagenet\",\n",
    "    include_top=False,\n",
    "    input_shape=input_shape\n",
    ")\n",
    "\n",
    "# Stop from being trainable\n",
    "mbnet_v2.trainable = False"
   ]
  },
  {
   "cell_type": "code",
   "execution_count": 10,
   "id": "8de92430",
   "metadata": {},
   "outputs": [
    {
     "name": "stdout",
     "output_type": "stream",
     "text": [
      "Model: \"model\"\n",
      "_________________________________________________________________\n",
      "Layer (type)                 Output Shape              Param #   \n",
      "=================================================================\n",
      "input_2 (InputLayer)         [(None, 224, 224, 3)]     0         \n",
      "_________________________________________________________________\n",
      "mobilenetv2_1.00_224 (Model) (None, 7, 7, 1280)        2257984   \n",
      "_________________________________________________________________\n",
      "global_average_pooling2d (Gl (None, 1280)              0         \n",
      "_________________________________________________________________\n",
      "dropout (Dropout)            (None, 1280)              0         \n",
      "_________________________________________________________________\n",
      "dense (Dense)                (None, 26)                33306     \n",
      "=================================================================\n",
      "Total params: 2,291,290\n",
      "Trainable params: 33,306\n",
      "Non-trainable params: 2,257,984\n",
      "_________________________________________________________________\n"
     ]
    }
   ],
   "source": [
    "# Define the layers\n",
    "inputs = keras.Input(shape=input_shape)\n",
    "\n",
    "# Get the layer\n",
    "x = mbnet_v2(inputs, training = False)\n",
    "\n",
    "# Stack layers further\n",
    "x = tf.keras.layers.GlobalAveragePooling2D()(x)\n",
    "x = tf.keras.layers.Dropout(0.2)(x)\n",
    "x = tf.keras.layers.Dense(len(cats), activation=\"softmax\")(x)\n",
    "\n",
    "# Combine the model\n",
    "model = Model(inputs=inputs, outputs=x)\n",
    "\n",
    "# Summary\n",
    "model.summary()"
   ]
  },
  {
   "cell_type": "code",
   "execution_count": 11,
   "id": "6a5d2d00",
   "metadata": {},
   "outputs": [],
   "source": [
    "# Compile\n",
    "model.compile(optimizer=\"adam\", loss=\"categorical_crossentropy\", metrics=[\"accuracy\"])\n",
    "\n",
    "# Define callbacks to use\n",
    "early_stopping_cb = callbacks.EarlyStopping(monitor=\"loss\", patience=3)"
   ]
  },
  {
   "cell_type": "code",
   "execution_count": 12,
   "id": "735d3684",
   "metadata": {
    "scrolled": true
   },
   "outputs": [
    {
     "name": "stdout",
     "output_type": "stream",
     "text": [
      "Epoch 1/30\n",
      "150/150 [==============================] - 444s 3s/step - loss: 1.1391 - acc: 0.6973\n",
      "Epoch 2/30\n",
      "150/150 [==============================] - 441s 3s/step - loss: 0.3913 - acc: 0.8950\n",
      "Epoch 3/30\n",
      "150/150 [==============================] - 438s 3s/step - loss: 0.2684 - acc: 0.9287\n",
      "Epoch 4/30\n",
      "150/150 [==============================] - 436s 3s/step - loss: 0.2254 - acc: 0.9371\n",
      "Epoch 5/30\n",
      "150/150 [==============================] - 440s 3s/step - loss: 0.1926 - acc: 0.9458\n",
      "Epoch 6/30\n",
      "150/150 [==============================] - 453s 3s/step - loss: 0.1984 - acc: 0.9438\n",
      "Epoch 7/30\n",
      "150/150 [==============================] - 433s 3s/step - loss: 0.1688 - acc: 0.9532\n",
      "Epoch 8/30\n",
      "150/150 [==============================] - 451s 3s/step - loss: 0.1601 - acc: 0.9542\n",
      "Epoch 9/30\n",
      "150/150 [==============================] - 444s 3s/step - loss: 0.1327 - acc: 0.9621\n",
      "Epoch 10/30\n",
      "150/150 [==============================] - 449s 3s/step - loss: 0.1315 - acc: 0.9583\n",
      "Epoch 11/30\n",
      "150/150 [==============================] - 447s 3s/step - loss: 0.1217 - acc: 0.9650\n",
      "Epoch 12/30\n",
      "150/150 [==============================] - 440s 3s/step - loss: 0.1167 - acc: 0.9663\n",
      "Epoch 13/30\n",
      "150/150 [==============================] - 438s 3s/step - loss: 0.1202 - acc: 0.9621\n",
      "Epoch 14/30\n",
      "150/150 [==============================] - 443s 3s/step - loss: 0.1173 - acc: 0.9638\n",
      "Epoch 15/30\n",
      "150/150 [==============================] - 432s 3s/step - loss: 0.1073 - acc: 0.9669\n",
      "Epoch 16/30\n",
      "150/150 [==============================] - 447s 3s/step - loss: 0.0998 - acc: 0.9694\n",
      "Epoch 17/30\n",
      "150/150 [==============================] - 450s 3s/step - loss: 0.1055 - acc: 0.9688\n",
      "Epoch 18/30\n",
      "150/150 [==============================] - 433s 3s/step - loss: 0.0895 - acc: 0.9729\n",
      "Epoch 19/30\n",
      "150/150 [==============================] - 438s 3s/step - loss: 0.0955 - acc: 0.9694\n",
      "Epoch 20/30\n",
      "150/150 [==============================] - 450s 3s/step - loss: 0.0961 - acc: 0.9696\n",
      "Epoch 21/30\n",
      "150/150 [==============================] - 440s 3s/step - loss: 0.0877 - acc: 0.9721\n",
      "Epoch 22/30\n",
      "150/150 [==============================] - 445s 3s/step - loss: 0.0823 - acc: 0.9735\n",
      "Epoch 23/30\n",
      "150/150 [==============================] - 435s 3s/step - loss: 0.0957 - acc: 0.9698\n",
      "Epoch 24/30\n",
      "150/150 [==============================] - 448s 3s/step - loss: 0.0921 - acc: 0.9715\n",
      "Epoch 25/30\n",
      "150/150 [==============================] - 436s 3s/step - loss: 0.0871 - acc: 0.9702\n"
     ]
    }
   ],
   "source": [
    "# Num epochs\n",
    "epochs = 30\n",
    "\n",
    "# Train model\n",
    "history = model.fit(\n",
    "    train_data,\n",
    "    epochs=epochs,\n",
    "    steps_per_epoch=150,\n",
    "    callbacks=[early_stopping_cb]\n",
    ")"
   ]
  },
  {
   "cell_type": "code",
   "execution_count": 13,
   "id": "b28c28b1",
   "metadata": {},
   "outputs": [
    {
     "name": "stdout",
     "output_type": "stream",
     "text": [
      "63/63 [==============================] - 151s 2s/step - loss: 0.0796 - acc: 0.9771\n"
     ]
    },
    {
     "data": {
      "text/plain": [
       "[0.07961753564369348, 0.97710305]"
      ]
     },
     "execution_count": 13,
     "metadata": {},
     "output_type": "execute_result"
    }
   ],
   "source": [
    "model.evaluate(test_data)"
   ]
  },
  {
   "cell_type": "code",
   "execution_count": 15,
   "id": "c7ca3755",
   "metadata": {},
   "outputs": [
    {
     "data": {
      "image/png": "[encoded data removed]",
      "text/plain": [
       "<Figure size 432x288 with 1 Axes>"
      ]
     },
     "metadata": {
      "needs_background": "light"
     },
     "output_type": "display_data"
    }
   ],
   "source": [
    "# Plotting\n",
    "hist = history.history\n",
    "\n",
    "# Plot accuracy and loss\n",
    "plt.plot(hist[\"acc\"], label=\"accuracy\")\n",
    "plt.plot(hist[\"loss\"], label=\"loss\")\n",
    "\n",
    "if \"val_accuracy\" in hist and \"val_loss\" in hist:\n",
    "    plt.plot(hist[\"val_accuracy\"], label=\"val_accuracy\")\n",
    "    plt.plot(hist[\"val_loss\"], label=\"val_loss\")\n",
    "\n",
    "# Add the labels and legend\n",
    "plt.ylabel(\"Accuracy / Loss\")\n",
    "plt.xlabel(\"Epochs #\")\n",
    "plt.legend()\n",
    "\n",
    "# Finally show the plot\n",
    "plt.show()"
   ]
  },
  {
   "cell_type": "code",
   "execution_count": 16,
   "id": "eb34acf1",
   "metadata": {},
   "outputs": [],
   "source": [
    "model.save(\"mob_model.h5\")"
   ]
  },
  {
   "cell_type": "code",
   "execution_count": 17,
   "id": "36888418",
   "metadata": {},
   "outputs": [],
   "source": [
    "model.save_weights(\"NMT_model_weight.tf\",save_format='tf')"
   ]
  },
  {
   "cell_type": "code",
   "execution_count": 18,
   "id": "99f20805",
   "metadata": {},
   "outputs": [
    {
     "data": {
      "text/plain": [
       "<bound method Model.load_weights of <tensorflow.python.keras.engine.training.Model object at 0x7f90bc2076d8>>"
      ]
     },
     "execution_count": 18,
     "metadata": {},
     "output_type": "execute_result"
    }
   ],
   "source": [
    "model.load_weights"
   ]
  },
  {
   "cell_type": "code",
   "execution_count": 21,
   "id": "d37b3095",
   "metadata": {},
   "outputs": [],
   "source": [
    "    model_config = { \"class_name\": \"Model\",\n",
    "                     \"config\":model.get_config()\n",
    "                     }\n",
    "\n",
    "    with open(os.path.join('models', \"model_config.yaml\"), \"w\") as file:\n",
    "        file.write(model.to_yaml())\n",
    "\n",
    "    model.save_weights(os.path.join('models', \"model_weights.hdf5\"))\n"
   ]
  },
  {
   "cell_type": "code",
   "execution_count": null,
   "id": "e3560bed",
   "metadata": {},
   "outputs": [],
   "source": []
  },
  {
   "cell_type": "code",
   "execution_count": 22,
   "id": "e1ad7c3e",
   "metadata": {},
   "outputs": [
    {
     "ename": "NameError",
     "evalue": "name 'json' is not defined",
     "output_type": "error",
     "traceback": [
      "\u001b[0;31m---------------------------------------------------------------------------\u001b[0m",
      "\u001b[0;31mNameError\u001b[0m                                 Traceback (most recent call last)",
      "\u001b[0;32m<ipython-input-22-011e41987a62>\u001b[0m in \u001b[0;36m<module>\u001b[0;34m\u001b[0m\n\u001b[1;32m      1\u001b[0m \u001b[0;31m# Dump the categories\u001b[0m\u001b[0;34m\u001b[0m\u001b[0;34m\u001b[0m\u001b[0;34m\u001b[0m\u001b[0m\n\u001b[1;32m      2\u001b[0m \u001b[0;32mwith\u001b[0m \u001b[0mopen\u001b[0m\u001b[0;34m(\u001b[0m\u001b[0;34m\"categories.json\"\u001b[0m\u001b[0;34m,\u001b[0m \u001b[0;34m\"w\"\u001b[0m\u001b[0;34m)\u001b[0m \u001b[0;32mas\u001b[0m \u001b[0mfile\u001b[0m\u001b[0;34m:\u001b[0m\u001b[0;34m\u001b[0m\u001b[0;34m\u001b[0m\u001b[0m\n\u001b[0;32m----> 3\u001b[0;31m   \u001b[0mjson\u001b[0m\u001b[0;34m.\u001b[0m\u001b[0mdump\u001b[0m\u001b[0;34m(\u001b[0m\u001b[0mtrain_data\u001b[0m\u001b[0;34m.\u001b[0m\u001b[0mclass_indices\u001b[0m\u001b[0;34m,\u001b[0m \u001b[0mfile\u001b[0m\u001b[0;34m)\u001b[0m\u001b[0;34m\u001b[0m\u001b[0;34m\u001b[0m\u001b[0m\n\u001b[0m",
      "\u001b[0;31mNameError\u001b[0m: name 'json' is not defined"
     ]
    }
   ],
   "source": [
    "# Dump the categories\n",
    "with open(\"categories.json\", \"w\") as file:\n",
    "  json.dump(train_data.class_indices, file)"
   ]
  },
  {
   "cell_type": "code",
   "execution_count": null,
   "id": "dbf36b71",
   "metadata": {},
   "outputs": [],
   "source": []
  }
 ],
 "metadata": {
  "kernelspec": {
   "display_name": "conda_amazonei_tensorflow_p36",
   "language": "python",
   "name": "conda_amazonei_tensorflow_p36"
  },
  "language_info": {
   "codemirror_mode": {
    "name": "ipython",
    "version": 3
   },
   "file_extension": ".py",
   "mimetype": "text/x-python",
   "name": "python",
   "nbconvert_exporter": "python",
   "pygments_lexer": "ipython3",
   "version": "3.6.10"
  }
 },
 "nbformat": 4,
 "nbformat_minor": 5
}
